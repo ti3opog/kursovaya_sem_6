{
  "nbformat": 4,
  "nbformat_minor": 0,
  "metadata": {
    "colab": {
      "name": "Курсач.ipynb",
      "provenance": [],
      "collapsed_sections": []
    },
    "kernelspec": {
      "name": "python3",
      "display_name": "Python 3"
    }
  },
  "cells": [
    {
      "cell_type": "code",
      "metadata": {
        "id": "uNhCttn0UWic"
      },
      "source": [
        "# импорт всех необходимых библиотек\n",
        "import IPython.display as ipd\n",
        "import os\n",
        "import pandas as pd\n",
        "import librosa\n",
        "import glob \n",
        "import librosa.display\n",
        "import random\n",
        "import time\n",
        "\n",
        "from sklearn.preprocessing import StandardScaler\n",
        "from sklearn.model_selection import train_test_split\n",
        "\n",
        "from sklearn.metrics import classification_report\n",
        "from sklearn.metrics import mean_squared_error\n",
        "from sklearn.metrics import accuracy_score\n",
        "from sklearn.metrics import precision_score\n",
        "from sklearn.metrics import recall_score\n",
        "\n",
        "from keras.utils.np_utils import to_categorical\n",
        "\n",
        "import numpy as np\n",
        "from keras.models import Sequential\n",
        "from keras.layers import Dense, Dropout, Activation, Flatten\n",
        "from keras.layers import Convolution2D, MaxPooling2D\n",
        "from keras.optimizers import Adam\n",
        "from keras.utils import np_utils\n",
        "from sklearn import metrics \n",
        "\n",
        "from sklearn.datasets import make_regression\n",
        "from sklearn.preprocessing import StandardScaler\n",
        "from sklearn import metrics\n",
        "from sklearn.model_selection import train_test_split, GridSearchCV\n",
        "\n",
        "from tensorflow.keras.models import Sequential\n",
        "from tensorflow.keras.layers import Dense, Dropout \n",
        "from tensorflow.keras.wrappers.scikit_learn import KerasRegressor\n",
        "\n",
        "from sklearn.neighbors import KNeighborsClassifier, NearestNeighbors\n",
        "from sklearn.ensemble import BaggingClassifier, RandomForestClassifier, GradientBoostingClassifier\n",
        "from sklearn.naive_bayes import GaussianNB\n",
        "from sklearn.svm import SVC\n",
        "from sklearn.tree import DecisionTreeClassifier\n",
        "from sklearn.linear_model import LogisticRegression, RidgeClassifier, SGDClassifier\n",
        "from sklearn.neural_network import MLPClassifier\n",
        "\n",
        "from sklearn.model_selection import learning_curve\n",
        "\n",
        "from keras.callbacks import EarlyStopping\n",
        "\n",
        "from keras import regularizers\n",
        "\n",
        "from sklearn.preprocessing import LabelEncoder\n",
        "\n",
        "from datetime import datetime\n",
        "\n",
        "import matplotlib.pyplot as plt"
      ],
      "execution_count": null,
      "outputs": []
    },
    {
      "cell_type": "code",
      "metadata": {
        "colab": {
          "base_uri": "https://localhost:8080/",
          "height": 402
        },
        "id": "JKjPE77NUbdp",
        "outputId": "6b4bd6a0-2a4e-4b2c-fc63-4a8afefeaead"
      },
      "source": [
        "# считывание таблицы с личными данными спикеров\n",
        "df = pd.read_table('/content/drive/MyDrive/speakers.TXT', sep='|', names = ['ID', 'Sex', 'type', 'time', 'Name'], engine='python')\n",
        "df"
      ],
      "execution_count": null,
      "outputs": [
        {
          "output_type": "execute_result",
          "data": {
            "text/html": [
              "<div>\n",
              "<style scoped>\n",
              "    .dataframe tbody tr th:only-of-type {\n",
              "        vertical-align: middle;\n",
              "    }\n",
              "\n",
              "    .dataframe tbody tr th {\n",
              "        vertical-align: top;\n",
              "    }\n",
              "\n",
              "    .dataframe thead th {\n",
              "        text-align: right;\n",
              "    }\n",
              "</style>\n",
              "<table border=\"1\" class=\"dataframe\">\n",
              "  <thead>\n",
              "    <tr style=\"text-align: right;\">\n",
              "      <th></th>\n",
              "      <th>ID</th>\n",
              "      <th>Sex</th>\n",
              "      <th>type</th>\n",
              "      <th>time</th>\n",
              "      <th>Name</th>\n",
              "    </tr>\n",
              "  </thead>\n",
              "  <tbody>\n",
              "    <tr>\n",
              "      <th>0</th>\n",
              "      <td>14</td>\n",
              "      <td>F</td>\n",
              "      <td>train-clean-360</td>\n",
              "      <td>25.03</td>\n",
              "      <td>Kristin LeMoine</td>\n",
              "    </tr>\n",
              "    <tr>\n",
              "      <th>1</th>\n",
              "      <td>16</td>\n",
              "      <td>F</td>\n",
              "      <td>train-clean-360</td>\n",
              "      <td>25.11</td>\n",
              "      <td>Alys AtteWater</td>\n",
              "    </tr>\n",
              "    <tr>\n",
              "      <th>2</th>\n",
              "      <td>17</td>\n",
              "      <td>M</td>\n",
              "      <td>train-clean-360</td>\n",
              "      <td>25.04</td>\n",
              "      <td>Gord Mackenzie</td>\n",
              "    </tr>\n",
              "    <tr>\n",
              "      <th>3</th>\n",
              "      <td>19</td>\n",
              "      <td>F</td>\n",
              "      <td>train-clean-100</td>\n",
              "      <td>25.19</td>\n",
              "      <td>Kara Shallenberg</td>\n",
              "    </tr>\n",
              "    <tr>\n",
              "      <th>4</th>\n",
              "      <td>20</td>\n",
              "      <td>F</td>\n",
              "      <td>train-other-500</td>\n",
              "      <td>30.07</td>\n",
              "      <td>Gesine</td>\n",
              "    </tr>\n",
              "    <tr>\n",
              "      <th>...</th>\n",
              "      <td>...</td>\n",
              "      <td>...</td>\n",
              "      <td>...</td>\n",
              "      <td>...</td>\n",
              "      <td>...</td>\n",
              "    </tr>\n",
              "    <tr>\n",
              "      <th>2478</th>\n",
              "      <td>8975</td>\n",
              "      <td>F</td>\n",
              "      <td>train-clean-100</td>\n",
              "      <td>25.11</td>\n",
              "      <td>Daisy Flaim</td>\n",
              "    </tr>\n",
              "    <tr>\n",
              "      <th>2479</th>\n",
              "      <td>9000</td>\n",
              "      <td>M</td>\n",
              "      <td>train-other-500</td>\n",
              "      <td>27.26</td>\n",
              "      <td>Ramon Escamilla</td>\n",
              "    </tr>\n",
              "    <tr>\n",
              "      <th>2480</th>\n",
              "      <td>9022</td>\n",
              "      <td>F</td>\n",
              "      <td>train-clean-360</td>\n",
              "      <td>25.17</td>\n",
              "      <td>Claire M</td>\n",
              "    </tr>\n",
              "    <tr>\n",
              "      <th>2481</th>\n",
              "      <td>9023</td>\n",
              "      <td>F</td>\n",
              "      <td>train-clean-360</td>\n",
              "      <td>25.19</td>\n",
              "      <td>P. J. Morgan</td>\n",
              "    </tr>\n",
              "    <tr>\n",
              "      <th>2482</th>\n",
              "      <td>9026</td>\n",
              "      <td>F</td>\n",
              "      <td>train-clean-360</td>\n",
              "      <td>21.75</td>\n",
              "      <td>Tammy Porter</td>\n",
              "    </tr>\n",
              "  </tbody>\n",
              "</table>\n",
              "<p>2483 rows × 5 columns</p>\n",
              "</div>"
            ],
            "text/plain": [
              "        ID  Sex                type   time               Name\n",
              "0       14   F    train-clean-360    25.03    Kristin LeMoine\n",
              "1       16   F    train-clean-360    25.11     Alys AtteWater\n",
              "2       17   M    train-clean-360    25.04     Gord Mackenzie\n",
              "3       19   F    train-clean-100    25.19   Kara Shallenberg\n",
              "4       20   F    train-other-500    30.07             Gesine\n",
              "...    ...  ...                 ...    ...                ...\n",
              "2478  8975   F    train-clean-100    25.11        Daisy Flaim\n",
              "2479  9000   M    train-other-500    27.26    Ramon Escamilla\n",
              "2480  9022   F    train-clean-360    25.17           Claire M\n",
              "2481  9023   F    train-clean-360    25.19       P. J. Morgan\n",
              "2482  9026   F    train-clean-360    21.75       Tammy Porter\n",
              "\n",
              "[2483 rows x 5 columns]"
            ]
          },
          "metadata": {
            "tags": []
          },
          "execution_count": 11
        }
      ]
    },
    {
      "cell_type": "code",
      "metadata": {
        "id": "3uGWOQ9fU8lN"
      },
      "source": [
        "# Удалим ненужные столбцы. \n",
        "del(df['type'])\n",
        "del(df['time'])\n",
        "del(df['Sex'])"
      ],
      "execution_count": null,
      "outputs": []
    },
    {
      "cell_type": "code",
      "metadata": {
        "colab": {
          "base_uri": "https://localhost:8080/",
          "height": 195
        },
        "id": "m154tKVlVK2e",
        "outputId": "5da555f8-4919-45df-9e9a-cb5ab8b2e87e"
      },
      "source": [
        "# данный код формирует таблицу с директориями звукозаписей для их считывания\n",
        "\n",
        "folders = os.listdir('/content/drive/MyDrive/test-clean')\n",
        "data_set = []\n",
        "data_set_path = []\n",
        "speaker = []\n",
        "Name = []\n",
        "for i in folders:\n",
        "    \n",
        "    sub_folders = os.listdir('/content/drive/MyDrive/test-clean/' + str(i))\n",
        "    if('.DS_Store' in sub_folders):\n",
        "        sub_folders.remove('.DS_Store')\n",
        "    for j in sub_folders:\n",
        "        sub_sub_folders = os.listdir('/content/drive/MyDrive/test-clean/' + str(i) + '/' + str(j))\n",
        "        if('.DS_Store' in sub_folders):\n",
        "            sub_sub_folders.remove('.DS_Store')\n",
        "        for k in sub_sub_folders:\n",
        "            if (not ('.txt' in k)):\n",
        "                data_set.append(k)\n",
        "                data_set_path.append('/content/drive/MyDrive/test-clean/' + str(i) + '/' + str(j) + '/' + str(k))\n",
        "                speaker.append(i)\n",
        "                Name.append(df.loc[df['ID'] == int(i), 'Name'].values[0])\n",
        "\n",
        "data = pd.DataFrame({'File':data_set, 'Path':data_set_path,'Speaker':speaker, 'Name':Name})\n",
        "data = data.sample(frac=1).reset_index(drop=True)\n",
        "data.head(5)"
      ],
      "execution_count": null,
      "outputs": [
        {
          "output_type": "execute_result",
          "data": {
            "text/html": [
              "<div>\n",
              "<style scoped>\n",
              "    .dataframe tbody tr th:only-of-type {\n",
              "        vertical-align: middle;\n",
              "    }\n",
              "\n",
              "    .dataframe tbody tr th {\n",
              "        vertical-align: top;\n",
              "    }\n",
              "\n",
              "    .dataframe thead th {\n",
              "        text-align: right;\n",
              "    }\n",
              "</style>\n",
              "<table border=\"1\" class=\"dataframe\">\n",
              "  <thead>\n",
              "    <tr style=\"text-align: right;\">\n",
              "      <th></th>\n",
              "      <th>File</th>\n",
              "      <th>Path</th>\n",
              "      <th>Speaker</th>\n",
              "      <th>Name</th>\n",
              "    </tr>\n",
              "  </thead>\n",
              "  <tbody>\n",
              "    <tr>\n",
              "      <th>0</th>\n",
              "      <td>1284-1180-0009.flac</td>\n",
              "      <td>/content/drive/MyDrive/test-clean/1284/1180/12...</td>\n",
              "      <td>1284</td>\n",
              "      <td>Daniel Anaya</td>\n",
              "    </tr>\n",
              "    <tr>\n",
              "      <th>1</th>\n",
              "      <td>8455-210777-0015.flac</td>\n",
              "      <td>/content/drive/MyDrive/test-clean/8455/210777/...</td>\n",
              "      <td>8455</td>\n",
              "      <td>thecheops</td>\n",
              "    </tr>\n",
              "    <tr>\n",
              "      <th>2</th>\n",
              "      <td>7729-102255-0019.flac</td>\n",
              "      <td>/content/drive/MyDrive/test-clean/7729/102255/...</td>\n",
              "      <td>7729</td>\n",
              "      <td>Tim Bower</td>\n",
              "    </tr>\n",
              "    <tr>\n",
              "      <th>3</th>\n",
              "      <td>3570-5696-0002.flac</td>\n",
              "      <td>/content/drive/MyDrive/test-clean/3570/5696/35...</td>\n",
              "      <td>3570</td>\n",
              "      <td>sarac</td>\n",
              "    </tr>\n",
              "    <tr>\n",
              "      <th>4</th>\n",
              "      <td>5142-36377-0006.flac</td>\n",
              "      <td>/content/drive/MyDrive/test-clean/5142/36377/5...</td>\n",
              "      <td>5142</td>\n",
              "      <td>Mary Ballard-Johansson</td>\n",
              "    </tr>\n",
              "  </tbody>\n",
              "</table>\n",
              "</div>"
            ],
            "text/plain": [
              "                    File  ...                     Name\n",
              "0    1284-1180-0009.flac  ...             Daniel Anaya\n",
              "1  8455-210777-0015.flac  ...                thecheops\n",
              "2  7729-102255-0019.flac  ...                Tim Bower\n",
              "3    3570-5696-0002.flac  ...                    sarac\n",
              "4   5142-36377-0006.flac  ...   Mary Ballard-Johansson\n",
              "\n",
              "[5 rows x 4 columns]"
            ]
          },
          "metadata": {
            "tags": []
          },
          "execution_count": 13
        }
      ]
    },
    {
      "cell_type": "code",
      "metadata": {
        "id": "oLi9xyQGXVVd"
      },
      "source": [
        "# функция расчёта необходимых для обучения признаков\n",
        "def extract_features(data):\n",
        "    \n",
        "    file = data.Path\n",
        "    X, sample_rate = librosa.load(file, res_type='kaiser_best') \n",
        "    # Мел-частотные кепстральные коэфиценты\n",
        "    mfccs = np.mean(librosa.feature.mfcc(y=X, sr=sample_rate, n_mfcc=40).T, axis=0)\n",
        "    \n",
        "    # Спектр\n",
        "    stft = np.abs(librosa.stft(X))\n",
        "    \n",
        "    # Кепстр\n",
        "    chroma = np.mean(librosa.feature.chroma_stft(S=stft, sr=sample_rate).T, axis=0)\n",
        "                     \n",
        "    # Мел\n",
        "    mel = np.mean(librosa.feature.melspectrogram(X, sr=sample_rate).T,axis=0)\n",
        "\n",
        "    # Спектральный контраст\n",
        "    contrast = np.mean(librosa.feature.spectral_contrast(S=stft, sr=sample_rate).T,axis=0)\n",
        "    # Имя(id)\n",
        "    label = data.Name\n",
        "\n",
        "    return mfccs, chroma, mel, contrast, label"
      ],
      "execution_count": null,
      "outputs": []
    },
    {
      "cell_type": "code",
      "metadata": {
        "colab": {
          "base_uri": "https://localhost:8080/"
        },
        "id": "yTsDgI1LW3aT",
        "outputId": "2bf6830e-553e-4b27-924d-b7473795675e"
      },
      "source": [
        "startTime = datetime.now()\n",
        "features_extracted = data.apply(extract_features, axis = 1)\n",
        "datetime.now() - startTime\n",
        "#Время: 1:04:28"
      ],
      "execution_count": null,
      "outputs": [
        {
          "output_type": "execute_result",
          "data": {
            "text/plain": [
              "datetime.timedelta(0, 3867, 396595)"
            ]
          },
          "metadata": {
            "tags": []
          },
          "execution_count": 16
        }
      ]
    },
    {
      "cell_type": "code",
      "metadata": {
        "id": "PKJv5P6Go5RL"
      },
      "source": [
        "np.save('features_label', features_extracted)\n",
        "np.save('speakers', data.Name)"
      ],
      "execution_count": null,
      "outputs": []
    },
    {
      "cell_type": "code",
      "metadata": {
        "id": "5K-m6hZYpBb2"
      },
      "source": [
        "# список признаков\n",
        "features_extracted = np.load('features_label.npy', allow_pickle=True)\n",
        "features = []\n",
        "mfccs = []\n",
        "chroma = []\n",
        "mel = []\n",
        "contrast = []\n",
        "\n",
        "for i in range(0, len(features_extracted)):\n",
        "    mfccs.append(features_extracted[i][0])\n",
        "    chroma.append(features_extracted[i][2])\n",
        "    mel.append(features_extracted[i][3])\n",
        "    contrast.append(features_extracted[i][4])\n",
        "    \n",
        "    features.append(np.concatenate((features_extracted[i][0],  \n",
        "                features_extracted[i][1], features_extracted[i][2],\n",
        "                features_extracted[i][3]), axis=0))"
      ],
      "execution_count": null,
      "outputs": []
    },
    {
      "cell_type": "code",
      "metadata": {
        "id": "WktAMPOipH2A"
      },
      "source": [
        "# Создаем X и y\n",
        "X = np.array(features)\n",
        "y = np.array(np.load('speakers.npy', allow_pickle=True))"
      ],
      "execution_count": null,
      "outputs": []
    },
    {
      "cell_type": "code",
      "metadata": {
        "id": "lEFPOSfOpXQw"
      },
      "source": [
        "dictors_names, y = np.unique(y, return_inverse=True)"
      ],
      "execution_count": null,
      "outputs": []
    },
    {
      "cell_type": "code",
      "metadata": {
        "id": "omUMdG_ZpacF"
      },
      "source": [
        "dictors_name_ids_dict = {'Name': dictors_names, 'id': list(range(len(dictors_names)))}"
      ],
      "execution_count": null,
      "outputs": []
    },
    {
      "cell_type": "code",
      "metadata": {
        "id": "XeNV83R-pfEn"
      },
      "source": [
        "X_train, X_test, y_train, y_test = train_test_split(X, y, test_size = 0.3, random_state = 20)"
      ],
      "execution_count": null,
      "outputs": []
    },
    {
      "cell_type": "code",
      "metadata": {
        "id": "76dl7V8mGYfi"
      },
      "source": [
        "ss = StandardScaler()\n",
        "X_train = ss.fit_transform(X_train)\n",
        "X_test = ss.transform(X_test)"
      ],
      "execution_count": null,
      "outputs": []
    },
    {
      "cell_type": "code",
      "metadata": {
        "colab": {
          "base_uri": "https://localhost:8080/",
          "height": 1000
        },
        "id": "Erjj838XGcrO",
        "outputId": "35c35334-519f-456f-fbcc-3b31dec5b294"
      },
      "source": [
        "start_time = time.time()\n",
        "\n",
        "model = KNeighborsClassifier(n_neighbors=5, n_jobs = -1)\n",
        "model.fit(X_train, y_train)\n",
        "\n",
        "y_pred = model.predict(X_test)\n",
        "\n",
        "class_rep = classification_report(list(y_test), y_pred, target_names = dictors_names)\n",
        "\n",
        "KNeighborsClassifier_precision = precision_score(y_test, y_pred, average='weighted')\n",
        "KNeighborsClassifier_recall = recall_score(y_test, y_pred, average='weighted')\n",
        "KNeighborsClassifier_accuracy = accuracy_score(y_test, y_pred)\n",
        "\n",
        "print('KNeighborsClassifier')\n",
        "print(f'Время выполнения: {round(time.time() - start_time, 1)} секунд')\n",
        "print(f'precision: {KNeighborsClassifier_precision}')\n",
        "print(f'recall: {KNeighborsClassifier_recall}')\n",
        "print(f'accuracy: {KNeighborsClassifier_accuracy}')\n",
        "print(f'{\"Classification report:\":^60}')\n",
        "print(class_rep)\n",
        "\n",
        "train_sizes, train_scores, test_scores = learning_curve(model,\n",
        "                                                        X, y, \n",
        "                                                        train_sizes=[range(10, 1500, 50)]);\n",
        "\n",
        "plt.plot(train_sizes, np.mean(train_scores, axis = 1), label = 'Оценка по данным для обучения');\n",
        "plt.plot(train_sizes, np.mean(test_scores, axis = 1), label = 'Оценка по данным, не участвовавшим в обучении');\n",
        "\n",
        "plt.legend();\n",
        "plt.fill_between(train_sizes, np.mean(train_scores, axis = 1) - np.std(train_scores, axis = 1), np.mean(train_scores, axis = 1) + np.std(train_scores, axis = 1), color=\"#DDDDDD\");\n",
        "plt.fill_between(train_sizes, np.mean(test_scores, axis = 1) - np.std(test_scores, axis = 1), np.mean(test_scores, axis = 1) + np.std(test_scores, axis = 1), color=\"#DDDDDD\");"
      ],
      "execution_count": null,
      "outputs": [
        {
          "output_type": "stream",
          "text": [
            "KNeighborsClassifier\n",
            "Время выполнения: 0.5 секунд\n",
            "precision: 0.9468007808269921\n",
            "recall: 0.9440203562340967\n",
            "accuracy: 0.9440203562340967\n",
            "                   Classification report:                   \n",
            "                         precision    recall  f1-score   support\n",
            "\n",
            "            AJai Hilton       0.96      0.96      0.96        25\n",
            "          Bill Kneeland       0.87      1.00      0.93        20\n",
            "              Brad Bush       1.00      0.92      0.96        24\n",
            "           Daniel Anaya       0.94      1.00      0.97        16\n",
            "          David Jenkins       1.00      1.00      1.00        16\n",
            "                 Dianne       0.83      1.00      0.91        10\n",
            "         Duncan Murrell       1.00      1.00      1.00        21\n",
            "          Heather Hogan       1.00      1.00      1.00        14\n",
            "            Jen Maxwell       0.85      0.70      0.77        33\n",
            "           Joyce Martin       0.95      1.00      0.97        18\n",
            "                KalenXI       1.00      1.00      1.00        22\n",
            "                LadyBug       0.82      1.00      0.90        28\n",
            "         Leanne Kinkopf       1.00      1.00      1.00        11\n",
            "                   Leni       1.00      1.00      1.00         9\n",
            " Mary Ballard-Johansson       1.00      1.00      1.00        31\n",
            "            Michele Fry       1.00      0.96      0.98        26\n",
            "         Michelle Goode       1.00      0.90      0.95        20\n",
            "     Mitchell L Leopard       1.00      1.00      1.00        14\n",
            "         Nathan Markham       0.86      1.00      0.92        12\n",
            "         Nikolle Doolin       1.00      0.93      0.96        14\n",
            "                Nodo420       1.00      1.00      1.00        20\n",
            "             Nolan Fout       0.95      0.91      0.93        22\n",
            "    Paul-Gabriel Wiener       0.97      1.00      0.99        34\n",
            "            Peter Bobbe       0.81      0.93      0.87        14\n",
            "        Rachael Lapidis       0.96      1.00      0.98        27\n",
            "    Rachel Nelson-Smith       1.00      1.00      1.00        11\n",
            "            Sam Stinson       0.94      1.00      0.97        16\n",
            "   Taylor Burton-Edward       0.94      0.68      0.79        22\n",
            "              Tim Bower       1.00      1.00      1.00        14\n",
            "            Tim Perkins       0.94      0.94      0.94        31\n",
            "              TinyPines       0.91      0.83      0.87        24\n",
            "          Ulf Bjorklund       1.00      1.00      1.00        12\n",
            "           airandwaters       0.77      0.77      0.77        22\n",
            "                 amycsj       1.00      0.89      0.94        18\n",
            "               elongman       0.77      1.00      0.87        10\n",
            "                number6       1.00      0.94      0.97        18\n",
            "            rachelellen       0.85      0.92      0.88        24\n",
            "                  sarac       1.00      1.00      1.00        14\n",
            "              supergirl       1.00      0.94      0.97        17\n",
            "              thecheops       1.00      1.00      1.00        32\n",
            "\n",
            "               accuracy                           0.94       786\n",
            "              macro avg       0.95      0.95      0.95       786\n",
            "           weighted avg       0.95      0.94      0.94       786\n",
            "\n"
          ],
          "name": "stdout"
        },
        {
          "output_type": "display_data",
          "data": {
            "image/png": "[encoded data removed]",
            "text/plain": [
              "<Figure size 432x288 with 1 Axes>"
            ]
          },
          "metadata": {
            "tags": [],
            "needs_background": "light"
          }
        }
      ]
    },
    {
      "cell_type": "code",
      "metadata": {
        "colab": {
          "base_uri": "https://localhost:8080/",
          "height": 1000
        },
        "id": "dpz5ZQyfGkIU",
        "outputId": "37301136-9181-4cb0-f16b-3ac40d247c0a"
      },
      "source": [
        "start_time = time.time()\n",
        "\n",
        "model = SVC()\n",
        "model.fit(X_train, y_train)\n",
        "\n",
        "y_pred = model.predict(X_test)\n",
        "\n",
        "class_rep = classification_report(list(y_test), y_pred, target_names = dictors_names)\n",
        "\n",
        "SVC_precision = precision_score(y_test, y_pred, average='weighted')\n",
        "SVC_recall = recall_score(y_test, y_pred, average='weighted')\n",
        "SVC_accuracy = accuracy_score(y_test, y_pred)\n",
        "\n",
        "print('Метод опорных векторов')\n",
        "print(f'Время выполнения: {round(time.time() - start_time, 1)} секунд')\n",
        "print(f'precision: {SVC_precision}')\n",
        "print(f'recall: {SVC_recall}')\n",
        "print(f'accuracy: {SVC_accuracy}')\n",
        "print(f'{\"Classification report:\":^60}')\n",
        "print(class_rep)\n",
        "\n",
        "train_sizes, train_scores, test_scores = learning_curve(model,\n",
        "                                                        X, y, \n",
        "                                                        train_sizes=[range(100, 2000, 50)]);\n",
        "\n",
        "plt.plot(train_sizes, np.mean(train_scores, axis = 1), label = 'Оценка по данным для обучения');\n",
        "plt.plot(train_sizes, np.mean(test_scores, axis = 1), label = 'Оценка по данным, не участвовавшим в обучении');\n",
        "\n",
        "plt.legend();\n",
        "plt.fill_between(train_sizes, np.mean(train_scores, axis = 1) - np.std(train_scores, axis = 1), np.mean(train_scores, axis = 1) + np.std(train_scores, axis = 1), color=\"#DDDDDD\");\n",
        "plt.fill_between(train_sizes, np.mean(test_scores, axis = 1) - np.std(test_scores, axis = 1), np.mean(test_scores, axis = 1) + np.std(test_scores, axis = 1), color=\"#DDDDDD\");"
      ],
      "execution_count": null,
      "outputs": [
        {
          "output_type": "stream",
          "text": [
            "Метод опорных векторов\n",
            "Время выполнения: 1.3 секунд\n",
            "precision: 0.9684198590255829\n",
            "recall: 0.950381679389313\n",
            "accuracy: 0.950381679389313\n",
            "                   Classification report:                   \n",
            "                         precision    recall  f1-score   support\n",
            "\n",
            "            AJai Hilton       1.00      0.96      0.98        25\n",
            "          Bill Kneeland       1.00      1.00      1.00        20\n",
            "              Brad Bush       0.96      1.00      0.98        24\n",
            "           Daniel Anaya       1.00      1.00      1.00        16\n",
            "          David Jenkins       1.00      1.00      1.00        16\n",
            "                 Dianne       1.00      0.80      0.89        10\n",
            "         Duncan Murrell       1.00      0.95      0.98        21\n",
            "          Heather Hogan       1.00      1.00      1.00        14\n",
            "            Jen Maxwell       1.00      0.88      0.94        33\n",
            "           Joyce Martin       1.00      1.00      1.00        18\n",
            "                KalenXI       1.00      1.00      1.00        22\n",
            "                LadyBug       1.00      1.00      1.00        28\n",
            "         Leanne Kinkopf       1.00      1.00      1.00        11\n",
            "                   Leni       1.00      1.00      1.00         9\n",
            " Mary Ballard-Johansson       1.00      0.94      0.97        31\n",
            "            Michele Fry       1.00      0.92      0.96        26\n",
            "         Michelle Goode       1.00      0.95      0.97        20\n",
            "     Mitchell L Leopard       1.00      1.00      1.00        14\n",
            "         Nathan Markham       1.00      1.00      1.00        12\n",
            "         Nikolle Doolin       1.00      0.93      0.96        14\n",
            "                Nodo420       1.00      1.00      1.00        20\n",
            "             Nolan Fout       1.00      0.86      0.93        22\n",
            "    Paul-Gabriel Wiener       1.00      1.00      1.00        34\n",
            "            Peter Bobbe       0.93      1.00      0.97        14\n",
            "        Rachael Lapidis       1.00      0.93      0.96        27\n",
            "    Rachel Nelson-Smith       1.00      1.00      1.00        11\n",
            "            Sam Stinson       1.00      1.00      1.00        16\n",
            "   Taylor Burton-Edward       0.84      0.73      0.78        22\n",
            "              Tim Bower       1.00      1.00      1.00        14\n",
            "            Tim Perkins       0.94      0.94      0.94        31\n",
            "              TinyPines       0.84      0.88      0.86        24\n",
            "          Ulf Bjorklund       1.00      1.00      1.00        12\n",
            "           airandwaters       1.00      0.82      0.90        22\n",
            "                 amycsj       1.00      0.89      0.94        18\n",
            "               elongman       0.91      1.00      0.95        10\n",
            "                number6       1.00      0.94      0.97        18\n",
            "            rachelellen       0.47      1.00      0.64        24\n",
            "                  sarac       1.00      1.00      1.00        14\n",
            "              supergirl       1.00      1.00      1.00        17\n",
            "              thecheops       1.00      0.94      0.97        32\n",
            "\n",
            "               accuracy                           0.95       786\n",
            "              macro avg       0.97      0.96      0.96       786\n",
            "           weighted avg       0.97      0.95      0.96       786\n",
            "\n"
          ],
          "name": "stdout"
        },
        {
          "output_type": "display_data",
          "data": {
            "image/png": "[encoded data removed]",
            "text/plain": [
              "<Figure size 432x288 with 1 Axes>"
            ]
          },
          "metadata": {
            "tags": [],
            "needs_background": "light"
          }
        }
      ]
    },
    {
      "cell_type": "code",
      "metadata": {
        "colab": {
          "base_uri": "https://localhost:8080/",
          "height": 1000
        },
        "id": "3jNeDtDcGsq_",
        "outputId": "7e2e1625-21a5-49eb-f989-8ca0a9d0f923"
      },
      "source": [
        "start_time = time.time()\n",
        "\n",
        "model = GaussianNB()\n",
        "model.fit(X_train, y_train)\n",
        "\n",
        "y_pred = model.predict(X_test)\n",
        "\n",
        "class_rep = classification_report(list(y_test), y_pred, target_names = dictors_names)\n",
        "\n",
        "GaussianNB_precision = precision_score(y_test, y_pred, average='weighted')\n",
        "GaussianNB_recall = recall_score(y_test, y_pred, average='weighted')\n",
        "GaussianNB_accuracy = accuracy_score(y_test, y_pred)\n",
        "\n",
        "print('GaussianNB')\n",
        "print(f'Время выполнения: {round(time.time() - start_time, 1)} секунд')\n",
        "print(f'precision: {GaussianNB_precision}')\n",
        "print(f'recall: {GaussianNB_recall}')\n",
        "print(f'accuracy: {GaussianNB_accuracy}')\n",
        "print(f'{\"Classification report:\":^60}')\n",
        "print(class_rep)\n",
        "\n",
        "train_sizes, train_scores, test_scores = learning_curve(model,\n",
        "                                                        X, y, \n",
        "                                                        train_sizes=[range(10, 1500, 50)]);\n",
        "\n",
        "plt.plot(train_sizes, np.mean(train_scores, axis = 1), label = 'Оценка по данным для обучения');\n",
        "plt.plot(train_sizes, np.mean(test_scores, axis = 1), label = 'Оценка по данным, не участвовавшим в обучении');\n",
        "\n",
        "plt.legend();\n",
        "plt.fill_between(train_sizes, np.mean(train_scores, axis = 1) - np.std(train_scores, axis = 1), np.mean(train_scores, axis = 1) + np.std(train_scores, axis = 1), color=\"#DDDDDD\");\n",
        "plt.fill_between(train_sizes, np.mean(test_scores, axis = 1) - np.std(test_scores, axis = 1), np.mean(test_scores, axis = 1) + np.std(test_scores, axis = 1), color=\"#DDDDDD\");"
      ],
      "execution_count": null,
      "outputs": [
        {
          "output_type": "stream",
          "text": [
            "GaussianNB\n",
            "Время выполнения: 0.1 секунд\n",
            "precision: 0.8935114384123014\n",
            "recall: 0.8829516539440203\n",
            "accuracy: 0.8829516539440203\n",
            "                   Classification report:                   \n",
            "                         precision    recall  f1-score   support\n",
            "\n",
            "            AJai Hilton       0.95      0.80      0.87        25\n",
            "          Bill Kneeland       0.83      1.00      0.91        20\n",
            "              Brad Bush       0.61      0.92      0.73        24\n",
            "           Daniel Anaya       0.79      0.94      0.86        16\n",
            "          David Jenkins       0.93      0.88      0.90        16\n",
            "                 Dianne       1.00      0.80      0.89        10\n",
            "         Duncan Murrell       0.94      0.81      0.87        21\n",
            "          Heather Hogan       1.00      0.93      0.96        14\n",
            "            Jen Maxwell       0.76      0.48      0.59        33\n",
            "           Joyce Martin       0.65      0.94      0.77        18\n",
            "                KalenXI       1.00      1.00      1.00        22\n",
            "                LadyBug       1.00      0.96      0.98        28\n",
            "         Leanne Kinkopf       0.92      1.00      0.96        11\n",
            "                   Leni       1.00      1.00      1.00         9\n",
            " Mary Ballard-Johansson       1.00      1.00      1.00        31\n",
            "            Michele Fry       1.00      0.92      0.96        26\n",
            "         Michelle Goode       0.81      0.85      0.83        20\n",
            "     Mitchell L Leopard       0.85      0.79      0.81        14\n",
            "         Nathan Markham       1.00      0.83      0.91        12\n",
            "         Nikolle Doolin       0.55      0.86      0.67        14\n",
            "                Nodo420       0.87      1.00      0.93        20\n",
            "             Nolan Fout       1.00      1.00      1.00        22\n",
            "    Paul-Gabriel Wiener       0.89      0.97      0.93        34\n",
            "            Peter Bobbe       0.83      0.71      0.77        14\n",
            "        Rachael Lapidis       0.95      0.78      0.86        27\n",
            "    Rachel Nelson-Smith       1.00      1.00      1.00        11\n",
            "            Sam Stinson       0.93      0.88      0.90        16\n",
            "   Taylor Burton-Edward       0.65      0.50      0.56        22\n",
            "              Tim Bower       0.93      0.93      0.93        14\n",
            "            Tim Perkins       0.90      0.87      0.89        31\n",
            "              TinyPines       1.00      0.96      0.98        24\n",
            "          Ulf Bjorklund       1.00      0.83      0.91        12\n",
            "           airandwaters       1.00      0.91      0.95        22\n",
            "                 amycsj       0.78      1.00      0.88        18\n",
            "               elongman       0.83      1.00      0.91        10\n",
            "                number6       0.89      0.94      0.92        18\n",
            "            rachelellen       0.76      0.67      0.71        24\n",
            "                  sarac       1.00      1.00      1.00        14\n",
            "              supergirl       0.94      1.00      0.97        17\n",
            "              thecheops       1.00      0.97      0.98        32\n",
            "\n",
            "               accuracy                           0.88       786\n",
            "              macro avg       0.89      0.89      0.89       786\n",
            "           weighted avg       0.89      0.88      0.88       786\n",
            "\n"
          ],
          "name": "stdout"
        },
        {
          "output_type": "display_data",
          "data": {
            "image/png": "[encoded data removed]",
            "text/plain": [
              "<Figure size 432x288 with 1 Axes>"
            ]
          },
          "metadata": {
            "tags": [],
            "needs_background": "light"
          }
        }
      ]
    },
    {
      "cell_type": "code",
      "metadata": {
        "colab": {
          "base_uri": "https://localhost:8080/",
          "height": 1000
        },
        "id": "PXrim800G0Vs",
        "outputId": "4830cd12-4d66-4c3e-ae38-522e9666dbca"
      },
      "source": [
        "start_time = time.time()\n",
        "\n",
        "model = DecisionTreeClassifier()\n",
        "model.fit(X_train, y_train)\n",
        "\n",
        "y_pred = model.predict(X_test)\n",
        "\n",
        "class_rep = classification_report(list(y_test), y_pred, target_names = dictors_names)\n",
        "\n",
        "DecisionTree_precision = precision_score(y_test, y_pred, average='weighted')\n",
        "DecisionTree_recall = recall_score(y_test, y_pred, average='weighted')\n",
        "DecisionTree_accuracy = accuracy_score(y_test, y_pred)\n",
        "\n",
        "print('DecisionTree')\n",
        "print(f'Время выполнения: {round(time.time() - start_time, 1)} секунд')\n",
        "print(f'precision: {DecisionTree_precision}')\n",
        "print(f'recall: {DecisionTree_recall}')\n",
        "print(f'accuracy: {DecisionTree_accuracy}')\n",
        "print(f'{\"Classification report:\":^60}')\n",
        "print(class_rep)\n",
        "\n",
        "train_sizes, train_scores, test_scores = learning_curve(model,\n",
        "                                                        X, y, \n",
        "                                                        train_sizes=[range(10, 1500, 50)]);\n",
        "\n",
        "plt.plot(train_sizes, np.mean(train_scores, axis = 1), label = 'Оценка по данным для обучения');\n",
        "plt.plot(train_sizes, np.mean(test_scores, axis = 1), label = 'Оценка по данным, не участвовавшим в обучении');\n",
        "\n",
        "plt.legend();\n",
        "plt.fill_between(train_sizes, np.mean(train_scores, axis = 1) - np.std(train_scores, axis = 1), np.mean(train_scores, axis = 1) + np.std(train_scores, axis = 1), color=\"#DDDDDD\");\n",
        "plt.fill_between(train_sizes, np.mean(test_scores, axis = 1) - np.std(test_scores, axis = 1), np.mean(test_scores, axis = 1) + np.std(test_scores, axis = 1), color=\"#DDDDDD\");"
      ],
      "execution_count": null,
      "outputs": [
        {
          "output_type": "stream",
          "text": [
            "DecisionTree\n",
            "Время выполнения: 0.7 секунд\n",
            "precision: 0.83043071656661\n",
            "recall: 0.8256997455470738\n",
            "accuracy: 0.8256997455470738\n",
            "                   Classification report:                   \n",
            "                         precision    recall  f1-score   support\n",
            "\n",
            "            AJai Hilton       0.77      0.68      0.72        25\n",
            "          Bill Kneeland       0.67      0.70      0.68        20\n",
            "              Brad Bush       0.78      0.75      0.77        24\n",
            "           Daniel Anaya       0.70      0.88      0.78        16\n",
            "          David Jenkins       0.77      0.62      0.69        16\n",
            "                 Dianne       0.90      0.90      0.90        10\n",
            "         Duncan Murrell       0.85      0.81      0.83        21\n",
            "          Heather Hogan       1.00      1.00      1.00        14\n",
            "            Jen Maxwell       0.72      0.88      0.79        33\n",
            "           Joyce Martin       0.81      0.72      0.76        18\n",
            "                KalenXI       0.91      0.91      0.91        22\n",
            "                LadyBug       0.89      0.86      0.87        28\n",
            "         Leanne Kinkopf       0.71      0.91      0.80        11\n",
            "                   Leni       0.90      1.00      0.95         9\n",
            " Mary Ballard-Johansson       0.86      0.97      0.91        31\n",
            "            Michele Fry       0.83      0.77      0.80        26\n",
            "         Michelle Goode       0.63      0.60      0.62        20\n",
            "     Mitchell L Leopard       0.71      0.71      0.71        14\n",
            "         Nathan Markham       0.50      0.33      0.40        12\n",
            "         Nikolle Doolin       0.86      0.86      0.86        14\n",
            "                Nodo420       0.76      0.80      0.78        20\n",
            "             Nolan Fout       1.00      0.91      0.95        22\n",
            "    Paul-Gabriel Wiener       0.93      0.79      0.86        34\n",
            "            Peter Bobbe       0.65      0.93      0.76        14\n",
            "        Rachael Lapidis       0.91      0.78      0.84        27\n",
            "    Rachel Nelson-Smith       1.00      1.00      1.00        11\n",
            "            Sam Stinson       0.76      0.81      0.79        16\n",
            "   Taylor Burton-Edward       0.75      0.68      0.71        22\n",
            "              Tim Bower       0.93      0.93      0.93        14\n",
            "            Tim Perkins       0.82      0.90      0.86        31\n",
            "              TinyPines       0.95      0.83      0.89        24\n",
            "          Ulf Bjorklund       1.00      0.92      0.96        12\n",
            "           airandwaters       0.82      0.82      0.82        22\n",
            "                 amycsj       0.90      1.00      0.95        18\n",
            "               elongman       0.69      0.90      0.78        10\n",
            "                number6       0.83      0.83      0.83        18\n",
            "            rachelellen       0.89      0.71      0.79        24\n",
            "                  sarac       0.93      1.00      0.97        14\n",
            "              supergirl       0.73      0.94      0.82        17\n",
            "              thecheops       0.93      0.88      0.90        32\n",
            "\n",
            "               accuracy                           0.83       786\n",
            "              macro avg       0.82      0.83      0.82       786\n",
            "           weighted avg       0.83      0.83      0.82       786\n",
            "\n"
          ],
          "name": "stdout"
        },
        {
          "output_type": "display_data",
          "data": {
            "image/png": "[encoded data removed]",
            "text/plain": [
              "<Figure size 432x288 with 1 Axes>"
            ]
          },
          "metadata": {
            "tags": [],
            "needs_background": "light"
          }
        }
      ]
    },
    {
      "cell_type": "code",
      "metadata": {
        "colab": {
          "base_uri": "https://localhost:8080/",
          "height": 1000
        },
        "id": "sC9dEnJWG_Gh",
        "outputId": "db31ddfe-e45c-48b7-cc08-cdddf891c60d"
      },
      "source": [
        "start_time = time.time()\n",
        "\n",
        "model = RandomForestClassifier(n_estimators = 100, n_jobs = -1)\n",
        "model.fit(X_train, y_train)\n",
        "\n",
        "y_pred = model.predict(X_test)\n",
        "\n",
        "class_rep = classification_report(list(y_test), y_pred, target_names = dictors_names)\n",
        "\n",
        "RandomForest_precision = precision_score(y_test, y_pred, average='weighted')\n",
        "RandomForest_recall = recall_score(y_test, y_pred, average='weighted')\n",
        "RandomForest_accuracy = accuracy_score(y_test, y_pred)\n",
        "\n",
        "print('RandomForest')\n",
        "print(f'Время выполнения: {round(time.time() - start_time, 1)} секунд')\n",
        "print(f'precision: {RandomForest_precision}')\n",
        "print(f'recall: {RandomForest_recall}')\n",
        "print(f'accuracy: {RandomForest_accuracy}')\n",
        "print(f'{\"Classification report:\":^60}')\n",
        "print(class_rep)\n",
        "\n",
        "print('Кривая обучения:')\n",
        "\n",
        "from sklearn.model_selection import learning_curve\n",
        "train_sizes, train_scores, test_scores = learning_curve(model,\n",
        "                                                        X, y, \n",
        "                                                        train_sizes=[range(10, 1500, 50)]);\n",
        "\n",
        "plt.plot(train_sizes, np.mean(train_scores, axis = 1), label = 'Оценка по данным для обучения');\n",
        "plt.plot(train_sizes, np.mean(test_scores, axis = 1), label = 'Оценка по данным, не участвовавшим в обучении');\n",
        "\n",
        "plt.legend();\n",
        "plt.fill_between(train_sizes, np.mean(train_scores, axis = 1) - np.std(train_scores, axis = 1), np.mean(train_scores, axis = 1) + np.std(train_scores, axis = 1), color=\"#DDDDDD\");\n",
        "plt.fill_between(train_sizes, np.mean(test_scores, axis = 1) - np.std(test_scores, axis = 1), np.mean(test_scores, axis = 1) + np.std(test_scores, axis = 1), color=\"#DDDDDD\");"
      ],
      "execution_count": null,
      "outputs": [
        {
          "output_type": "stream",
          "text": [
            "RandomForest\n",
            "Время выполнения: 2.4 секунд\n",
            "precision: 0.9915388343632617\n",
            "recall: 0.9910941475826972\n",
            "accuracy: 0.9910941475826972\n",
            "                   Classification report:                   \n",
            "                         precision    recall  f1-score   support\n",
            "\n",
            "            AJai Hilton       1.00      1.00      1.00        25\n",
            "          Bill Kneeland       0.95      1.00      0.98        20\n",
            "              Brad Bush       1.00      1.00      1.00        24\n",
            "           Daniel Anaya       1.00      1.00      1.00        16\n",
            "          David Jenkins       1.00      1.00      1.00        16\n",
            "                 Dianne       1.00      1.00      1.00        10\n",
            "         Duncan Murrell       1.00      0.95      0.98        21\n",
            "          Heather Hogan       1.00      1.00      1.00        14\n",
            "            Jen Maxwell       1.00      1.00      1.00        33\n",
            "           Joyce Martin       1.00      1.00      1.00        18\n",
            "                KalenXI       1.00      1.00      1.00        22\n",
            "                LadyBug       1.00      1.00      1.00        28\n",
            "         Leanne Kinkopf       1.00      1.00      1.00        11\n",
            "                   Leni       1.00      1.00      1.00         9\n",
            " Mary Ballard-Johansson       1.00      1.00      1.00        31\n",
            "            Michele Fry       1.00      1.00      1.00        26\n",
            "         Michelle Goode       1.00      1.00      1.00        20\n",
            "     Mitchell L Leopard       1.00      1.00      1.00        14\n",
            "         Nathan Markham       1.00      0.92      0.96        12\n",
            "         Nikolle Doolin       1.00      1.00      1.00        14\n",
            "                Nodo420       1.00      1.00      1.00        20\n",
            "             Nolan Fout       1.00      0.95      0.98        22\n",
            "    Paul-Gabriel Wiener       0.97      1.00      0.99        34\n",
            "            Peter Bobbe       0.93      1.00      0.97        14\n",
            "        Rachael Lapidis       1.00      1.00      1.00        27\n",
            "    Rachel Nelson-Smith       1.00      1.00      1.00        11\n",
            "            Sam Stinson       1.00      1.00      1.00        16\n",
            "   Taylor Burton-Edward       0.92      1.00      0.96        22\n",
            "              Tim Bower       1.00      1.00      1.00        14\n",
            "            Tim Perkins       0.97      0.97      0.97        31\n",
            "              TinyPines       1.00      1.00      1.00        24\n",
            "          Ulf Bjorklund       1.00      1.00      1.00        12\n",
            "           airandwaters       1.00      0.95      0.98        22\n",
            "                 amycsj       1.00      1.00      1.00        18\n",
            "               elongman       1.00      0.90      0.95        10\n",
            "                number6       1.00      0.94      0.97        18\n",
            "            rachelellen       0.96      1.00      0.98        24\n",
            "                  sarac       1.00      1.00      1.00        14\n",
            "              supergirl       1.00      1.00      1.00        17\n",
            "              thecheops       1.00      1.00      1.00        32\n",
            "\n",
            "               accuracy                           0.99       786\n",
            "              macro avg       0.99      0.99      0.99       786\n",
            "           weighted avg       0.99      0.99      0.99       786\n",
            "\n",
            "Кривая обучения:\n"
          ],
          "name": "stdout"
        },
        {
          "output_type": "display_data",
          "data": {
            "image/png": "[encoded data removed]",
            "text/plain": [
              "<Figure size 432x288 with 1 Axes>"
            ]
          },
          "metadata": {
            "tags": [],
            "needs_background": "light"
          }
        }
      ]
    },
    {
      "cell_type": "code",
      "metadata": {
        "colab": {
          "base_uri": "https://localhost:8080/",
          "height": 195
        },
        "id": "8kZ608a0Qn2_",
        "outputId": "fe17d0fc-6989-4196-9558-a8e11c6010af"
      },
      "source": [
        "compare_df = pd.DataFrame({'accuracy': [KNeighborsClassifier_accuracy,\n",
        "                                        RandomForest_accuracy,\n",
        "                                        SVC_accuracy,\n",
        "                                        GaussianNB_accuracy,\n",
        "                                        DecisionTree_accuracy],\n",
        "                           'precision': [KNeighborsClassifier_precision,\n",
        "                                         RandomForest_precision,\n",
        "                                         SVC_precision,\n",
        "                                         GaussianNB_precision,\n",
        "                                         DecisionTree_precision],\n",
        "                           'recall': [KNeighborsClassifier_recall,\n",
        "                                      RandomForest_recall,\n",
        "                                      SVC_recall,\n",
        "                                      GaussianNB_recall,\n",
        "                                      DecisionTree_recall]},\n",
        "                            index = ['KNeighborsClassifier', 'RandomForest', 'SVC', 'GaussianNB', 'DecisionTree'])\n",
        "compare_df"
      ],
      "execution_count": null,
      "outputs": [
        {
          "output_type": "execute_result",
          "data": {
            "text/html": [
              "<div>\n",
              "<style scoped>\n",
              "    .dataframe tbody tr th:only-of-type {\n",
              "        vertical-align: middle;\n",
              "    }\n",
              "\n",
              "    .dataframe tbody tr th {\n",
              "        vertical-align: top;\n",
              "    }\n",
              "\n",
              "    .dataframe thead th {\n",
              "        text-align: right;\n",
              "    }\n",
              "</style>\n",
              "<table border=\"1\" class=\"dataframe\">\n",
              "  <thead>\n",
              "    <tr style=\"text-align: right;\">\n",
              "      <th></th>\n",
              "      <th>accuracy</th>\n",
              "      <th>precision</th>\n",
              "      <th>recall</th>\n",
              "    </tr>\n",
              "  </thead>\n",
              "  <tbody>\n",
              "    <tr>\n",
              "      <th>KNeighborsClassifier</th>\n",
              "      <td>0.944020</td>\n",
              "      <td>0.946801</td>\n",
              "      <td>0.944020</td>\n",
              "    </tr>\n",
              "    <tr>\n",
              "      <th>RandomForest</th>\n",
              "      <td>0.991094</td>\n",
              "      <td>0.991539</td>\n",
              "      <td>0.991094</td>\n",
              "    </tr>\n",
              "    <tr>\n",
              "      <th>SVC</th>\n",
              "      <td>0.950382</td>\n",
              "      <td>0.968420</td>\n",
              "      <td>0.950382</td>\n",
              "    </tr>\n",
              "    <tr>\n",
              "      <th>GaussianNB</th>\n",
              "      <td>0.882952</td>\n",
              "      <td>0.893511</td>\n",
              "      <td>0.882952</td>\n",
              "    </tr>\n",
              "    <tr>\n",
              "      <th>DecisionTree</th>\n",
              "      <td>0.825700</td>\n",
              "      <td>0.830431</td>\n",
              "      <td>0.825700</td>\n",
              "    </tr>\n",
              "  </tbody>\n",
              "</table>\n",
              "</div>"
            ],
            "text/plain": [
              "                      accuracy  precision    recall\n",
              "KNeighborsClassifier  0.944020   0.946801  0.944020\n",
              "RandomForest          0.991094   0.991539  0.991094\n",
              "SVC                   0.950382   0.968420  0.950382\n",
              "GaussianNB            0.882952   0.893511  0.882952\n",
              "DecisionTree          0.825700   0.830431  0.825700"
            ]
          },
          "metadata": {
            "tags": []
          },
          "execution_count": 139
        }
      ]
    }
  ]
}